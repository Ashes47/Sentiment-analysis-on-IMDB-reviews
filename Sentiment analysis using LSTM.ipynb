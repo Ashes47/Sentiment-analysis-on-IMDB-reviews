{
 "cells": [
  {
   "cell_type": "code",
   "execution_count": 48,
   "metadata": {},
   "outputs": [],
   "source": [
    "# Basic packages\n",
    "import pandas as pd \n",
    "import numpy as np\n",
    "import seaborn as sns\n",
    "import matplotlib.pyplot as plt\n",
    "import os\n",
    "\n",
    "# Packages for data preparation\n",
    "from sklearn.model_selection import train_test_split\n",
    "from sklearn.metrics import confusion_matrix, classification_report\n",
    "from nltk.corpus import stopwords\n",
    "from keras.preprocessing.text import Tokenizer\n",
    "from keras.preprocessing.sequence import pad_sequences\n",
    "from keras.utils.np_utils import to_categorical\n",
    "from sklearn.preprocessing import LabelEncoder\n",
    "\n",
    "# Packages for modeling\n",
    "from keras.models import Sequential\n",
    "from keras.layers import *"
   ]
  },
  {
   "cell_type": "code",
   "execution_count": 2,
   "metadata": {},
   "outputs": [],
   "source": [
    "# Parameter indicating the number of words we'll put in the dictionary\n",
    "NB_WORDS = 10000\n",
    "\n",
    "# Number of epochs\n",
    "NB_START_EPOCHS = 4  \n",
    "\n",
    "# Size of the batches used \n",
    "BATCH_SIZE = 32 \n",
    "\n",
    "# Maximum number of words in a sequence\n",
    "MAX_LEN = 0 # Will be put later"
   ]
  },
  {
   "cell_type": "code",
   "execution_count": 3,
   "metadata": {},
   "outputs": [],
   "source": [
    "def remove_stopwords(input_text):\n",
    "    '''\n",
    "    Function to remove English stopwords from a Pandas Series.\n",
    "    \n",
    "    Parameters:\n",
    "        input_text : text to clean\n",
    "    Output:\n",
    "        cleaned Pandas Series \n",
    "    '''\n",
    "    stopwords_list = stopwords.words('english')\n",
    "    # Some words which might indicate a certain sentiment are kept via a whitelist\n",
    "    whitelist = [\"n't\", \"not\", \"no\"]\n",
    "    words = input_text.split() \n",
    "    clean_words = [word for word in words if (word not in stopwords_list or word in whitelist) and len(word) > 1] \n",
    "    return \" \".join(clean_words)"
   ]
  },
  {
   "cell_type": "code",
   "execution_count": 4,
   "metadata": {},
   "outputs": [],
   "source": [
    "# List to store movie reviews\n",
    "movie_reviews = []\n",
    "\n",
    "# List to store review labels\n",
    "training_labels = []\n",
    "\n",
    "for label in ['pos','neg']:\n",
    "\n",
    "    base_path = os.path.join('../Dataset/aclImdb/train/',label)\n",
    "\n",
    "    for one_file in os.listdir(base_path):\n",
    "        file_handle = open(os.path.join(base_path,one_file),encoding='utf8')\n",
    "        movie_reviews.append(file_handle.read())\n",
    "        file_handle.close()\n",
    "\n",
    "        if label == 'pos':\n",
    "            training_labels.append(1)   # 1 is denoting positive review\n",
    "        else:\n",
    "            training_labels.append(0)   # 0 is denoting negative review\n",
    "            \n",
    "movie_reviews = pd.Series(movie_reviews)"
   ]
  },
  {
   "cell_type": "code",
   "execution_count": 5,
   "metadata": {},
   "outputs": [],
   "source": [
    "# List to store testing movie reviews\n",
    "testing_movie_reviews = []\n",
    "\n",
    "# List to store testing review labels\n",
    "testing_labels = []\n",
    "\n",
    "for label in ['pos','neg']:\n",
    "\n",
    "    base_path = os.path.join('../Dataset/aclImdb/test/',label)\n",
    "\n",
    "    for one_file in os.listdir(base_path):\n",
    "        file_handle = open(os.path.join(base_path,one_file),encoding='utf8')\n",
    "        testing_movie_reviews.append(file_handle.read())\n",
    "        file_handle.close()\n",
    "\n",
    "        if label == 'pos':\n",
    "            testing_labels.append(1)   # 1 is denoting positive review\n",
    "        else:\n",
    "            testing_labels.append(0)   # 0 is denoting negative review\n",
    "            \n",
    "testing_movie_reviews = pd.Series(movie_reviews)"
   ]
  },
  {
   "cell_type": "code",
   "execution_count": 6,
   "metadata": {},
   "outputs": [
    {
     "name": "stdout",
     "output_type": "stream",
     "text": [
      "Bromwell High is a cartoon comedy. It ran at the same time as some other programs about school life, such as \"Teachers\". My 35 years in the teaching profession lead me to believe that Bromwell High's satire is much closer to reality than is \"Teachers\". The scramble to survive financially, the insightful students who can see right through their pathetic teachers' pomp, the pettiness of the whole situation, all remind me of the schools I knew and their students. When I saw the episode in which a student repeatedly tried to burn down the school, I immediately recalled ......... at .......... High. A classic line: INSPECTOR: I'm here to sack one of your teachers. STUDENT: Welcome to Bromwell High. I expect that many adults of my age think that Bromwell High is far fetched. What a pity that it isn't!\n",
      "\n",
      "\n",
      "This review is positive and is denoted by {1}.\n"
     ]
    }
   ],
   "source": [
    "# These reviews needs to be processed\n",
    "print(movie_reviews[0])\n",
    "print('\\n')\n",
    "print('This review is positive and is denoted by {}.'.format({training_labels[0]}))"
   ]
  },
  {
   "cell_type": "code",
   "execution_count": 7,
   "metadata": {},
   "outputs": [],
   "source": [
    "# Preprocessing\n",
    "movie_reviews = movie_reviews.apply(remove_stopwords)\n",
    "testing_movie_reviews = testing_movie_reviews.apply(remove_stopwords)"
   ]
  },
  {
   "cell_type": "code",
   "execution_count": 8,
   "metadata": {},
   "outputs": [
    {
     "name": "stdout",
     "output_type": "stream",
     "text": [
      "Bromwell High cartoon comedy. It ran time programs school life, \"Teachers\". My 35 years teaching profession lead believe Bromwell High's satire much closer reality \"Teachers\". The scramble survive financially, insightful students see right pathetic teachers' pomp, pettiness whole situation, remind schools knew students. When saw episode student repeatedly tried burn school, immediately recalled ......... .......... High. classic line: INSPECTOR: I'm sack one teachers. STUDENT: Welcome Bromwell High. expect many adults age think Bromwell High far fetched. What pity isn't!\n",
      "\n",
      "\n",
      "This review is positive and is denoted by {1}.\n"
     ]
    }
   ],
   "source": [
    "# Preprocessed Data\n",
    "print(movie_reviews[0])\n",
    "print('\\n')\n",
    "print('This review is positive and is denoted by {}.'.format({training_labels[0]}))"
   ]
  },
  {
   "cell_type": "code",
   "execution_count": 9,
   "metadata": {},
   "outputs": [],
   "source": [
    "# Converting words to numbers \n",
    "\n",
    "# Creating tokenizer\n",
    "tk = Tokenizer(num_words=NB_WORDS,\n",
    "               filters='!\"#$%&()*+,-./:;<=>?@[\\\\]^_`{|}~\\t\\n',\n",
    "               lower=True,\n",
    "               split=\" \")\n",
    "\n",
    "#  Creating the vocabulary index based on word frequency\n",
    "tk.fit_on_texts(movie_reviews)\n",
    "\n",
    "# Transforms each text in texts to a sequence of integers\n",
    "X_train = tk.texts_to_sequences(movie_reviews)\n",
    "X_test = tk.texts_to_sequences(testing_movie_reviews)"
   ]
  },
  {
   "cell_type": "code",
   "execution_count": 10,
   "metadata": {},
   "outputs": [
    {
     "data": {
      "text/plain": [
       "count    25000.000000\n",
       "mean       135.487800\n",
       "std        101.413876\n",
       "min          5.000000\n",
       "25%         72.000000\n",
       "50%        100.000000\n",
       "75%        165.000000\n",
       "max       1521.000000\n",
       "dtype: float64"
      ]
     },
     "execution_count": 10,
     "metadata": {},
     "output_type": "execute_result"
    }
   ],
   "source": [
    "X_train_seq  = movie_reviews.apply(lambda x: len(x.split(' ')))\n",
    "X_train_seq.describe()"
   ]
  },
  {
   "cell_type": "code",
   "execution_count": 11,
   "metadata": {},
   "outputs": [],
   "source": [
    "# Maximum number of words in a sequence\n",
    "MAX_LEN = 1521"
   ]
  },
  {
   "cell_type": "code",
   "execution_count": 12,
   "metadata": {},
   "outputs": [],
   "source": [
    "# Padding Data\n",
    "X_train_seq_trunc = pad_sequences(X_train, maxlen=MAX_LEN)\n",
    "X_test_seq_trunc = pad_sequences(X_test, maxlen=MAX_LEN)"
   ]
  },
  {
   "cell_type": "code",
   "execution_count": 13,
   "metadata": {},
   "outputs": [
    {
     "data": {
      "text/plain": [
       "array([  0,   0,   0, ...,   1,   1, 557])"
      ]
     },
     "execution_count": 13,
     "metadata": {},
     "output_type": "execute_result"
    }
   ],
   "source": [
    "# Example of padded sequence\n",
    "X_train_seq_trunc[10]  "
   ]
  },
  {
   "cell_type": "code",
   "execution_count": 14,
   "metadata": {},
   "outputs": [],
   "source": [
    "# Converting the target classes to numbers\n",
    "\n",
    "# Creating a label encoder object\n",
    "le = LabelEncoder()\n",
    "\n",
    "# Appling label encoding\n",
    "y_train_le = le.fit_transform(training_labels)\n",
    "y_test_le = le.transform(testing_labels)\n",
    "\n",
    "# Converting to category\n",
    "y_train_oh = to_categorical(y_train_le)\n",
    "y_test_oh = to_categorical(y_test_le)"
   ]
  },
  {
   "cell_type": "code",
   "execution_count": 15,
   "metadata": {},
   "outputs": [],
   "source": [
    "# Splitting off validation data\n",
    "X_train_emb, X_valid_emb, y_train_emb, y_valid_emb = train_test_split(X_train_seq_trunc, y_train_oh, test_size=0.12, random_state=37)"
   ]
  },
  {
   "cell_type": "code",
   "execution_count": 16,
   "metadata": {},
   "outputs": [
    {
     "name": "stdout",
     "output_type": "stream",
     "text": [
      "Shape of training set: (22000, 1521)\n",
      "Shape of testing set: (25000, 1521)\n",
      "Shape of validation set: (3000, 1521)\n"
     ]
    }
   ],
   "source": [
    "print('Shape of training set:',X_train_emb.shape)\n",
    "print('Shape of testing set:',X_test_seq_trunc.shape)\n",
    "print('Shape of validation set:',X_valid_emb.shape)"
   ]
  },
  {
   "cell_type": "code",
   "execution_count": 17,
   "metadata": {},
   "outputs": [],
   "source": [
    "# Initializing the model\n",
    "model = Sequential()\n",
    "\n",
    "# Adding embedding layer\n",
    "model.add(Embedding(NB_WORDS, 100, input_length=MAX_LEN))\n",
    "\n",
    "# Adding LSTM layer 1\n",
    "model.add(Dropout(0.4))\n",
    "model.add(LSTM(units = 50))\n",
    "\n",
    "# Output layer\n",
    "model.add(Dropout(0.4))\n",
    "model.add(Dense(2, activation='softmax'))\n",
    "\n",
    "# Compiling of model\n",
    "model.compile(optimizer='adam',loss='categorical_crossentropy',metrics=['accuracy'])"
   ]
  },
  {
   "cell_type": "code",
   "execution_count": 18,
   "metadata": {},
   "outputs": [
    {
     "name": "stdout",
     "output_type": "stream",
     "text": [
      "Model: \"sequential_1\"\n",
      "_________________________________________________________________\n",
      "Layer (type)                 Output Shape              Param #   \n",
      "=================================================================\n",
      "embedding_1 (Embedding)      (None, 1521, 100)         1000000   \n",
      "_________________________________________________________________\n",
      "dropout_1 (Dropout)          (None, 1521, 100)         0         \n",
      "_________________________________________________________________\n",
      "lstm_1 (LSTM)                (None, 50)                30200     \n",
      "_________________________________________________________________\n",
      "dropout_2 (Dropout)          (None, 50)                0         \n",
      "_________________________________________________________________\n",
      "dense_1 (Dense)              (None, 2)                 102       \n",
      "=================================================================\n",
      "Total params: 1,030,302\n",
      "Trainable params: 1,030,302\n",
      "Non-trainable params: 0\n",
      "_________________________________________________________________\n"
     ]
    }
   ],
   "source": [
    "# Summary of model\n",
    "model.summary()"
   ]
  },
  {
   "cell_type": "code",
   "execution_count": 19,
   "metadata": {},
   "outputs": [
    {
     "name": "stderr",
     "output_type": "stream",
     "text": [
      "C:\\Users\\anuj4\\AppData\\Local\\conda\\conda\\envs\\TF\\lib\\site-packages\\tensorflow_core\\python\\framework\\indexed_slices.py:433: UserWarning: Converting sparse IndexedSlices to a dense Tensor of unknown shape. This may consume a large amount of memory.\n",
      "  \"Converting sparse IndexedSlices to a dense Tensor of unknown shape. \"\n"
     ]
    },
    {
     "name": "stdout",
     "output_type": "stream",
     "text": [
      "Train on 22000 samples, validate on 3000 samples\n",
      "Epoch 1/4\n",
      "22000/22000 [==============================] - 1079s 49ms/step - loss: 0.4234 - accuracy: 0.8093 - val_loss: 0.3416 - val_accuracy: 0.8617\n",
      "Epoch 2/4\n",
      "22000/22000 [==============================] - 1155s 52ms/step - loss: 0.2274 - accuracy: 0.9137 - val_loss: 0.3157 - val_accuracy: 0.8813\n",
      "Epoch 3/4\n",
      "22000/22000 [==============================] - 1318s 60ms/step - loss: 0.1591 - accuracy: 0.9410 - val_loss: 0.3401 - val_accuracy: 0.8617\n",
      "Epoch 4/4\n",
      "22000/22000 [==============================] - 1306s 59ms/step - loss: 0.1150 - accuracy: 0.9595 - val_loss: 0.4273 - val_accuracy: 0.8700\n"
     ]
    }
   ],
   "source": [
    "history = model.fit(X_train_emb,\n",
    "                    y_train_emb,\n",
    "                    epochs=NB_START_EPOCHS,\n",
    "                    batch_size=BATCH_SIZE,\n",
    "                    validation_data=(X_valid_emb, y_valid_emb),\n",
    "                    verbose=1)"
   ]
  },
  {
   "cell_type": "code",
   "execution_count": 27,
   "metadata": {},
   "outputs": [
    {
     "name": "stdout",
     "output_type": "stream",
     "text": [
      "25000/25000 [==============================] - 186s 7ms/step\n"
     ]
    }
   ],
   "source": [
    "results = model.evaluate(X_test_seq_trunc, y_test_oh)\n",
    "pred = model.predict(X_test_seq_trunc)"
   ]
  },
  {
   "cell_type": "code",
   "execution_count": 62,
   "metadata": {},
   "outputs": [
    {
     "name": "stdout",
     "output_type": "stream",
     "text": [
      "Result after testing on 25000 new reviews\n",
      "\n",
      "\n",
      "Testing Accuracy = 97.07%\n",
      "Testing Loss = 9.81%\n"
     ]
    }
   ],
   "source": [
    "print(\"Result after testing on 25000 new reviews\")\n",
    "print('\\n')\n",
    "print(\"Testing Accuracy = {:.2f}%\".format(results[1]*100))\n",
    "print(\"Testing Loss = {:.2f}%\".format(results[0]*100))"
   ]
  },
  {
   "cell_type": "code",
   "execution_count": 67,
   "metadata": {},
   "outputs": [
    {
     "data": {
      "image/png": "[encoded data removed]",
      "text/plain": [
       "<Figure size 288x288 with 1 Axes>"
      ]
     },
     "metadata": {
      "needs_background": "light"
     },
     "output_type": "display_data"
    },
    {
     "name": "stdout",
     "output_type": "stream",
     "text": [
      "\n",
      "\n",
      "Testing Accuracy = 97.072%\n",
      "\n",
      "\n",
      "              precision    recall  f1-score   support\n",
      "\n",
      "           0       0.98      0.97      0.97     12500\n",
      "           1       0.97      0.98      0.97     12500\n",
      "\n",
      "    accuracy                           0.97     25000\n",
      "   macro avg       0.97      0.97      0.97     25000\n",
      "weighted avg       0.97      0.97      0.97     25000\n",
      "\n"
     ]
    }
   ],
   "source": [
    "# Set Figure\n",
    "fig = plt.figure(figsize=(4,4)) \n",
    "pred_ = pred.argmax(axis=1)\n",
    "y_test_oh_=y_test_oh.argmax(axis=1)\n",
    "mat = confusion_matrix(y_test_oh_, pred_) # Confusion matrix\n",
    "\n",
    "sns.heatmap(mat.T, square=True, annot=True, cbar=False, cmap=plt.cm.Blues)\n",
    "plt.xlabel('Predicted Values')\n",
    "plt.ylabel('True Values');\n",
    "plt.show();\n",
    "print('\\n')\n",
    "\n",
    "# Testing Accuracy\n",
    "print(\"Testing Accuracy = {}%\".format((mat.T[0][0]+mat.T[1][1])/250))\n",
    "print('\\n')\n",
    "print(classification_report(y_test_oh_,pred_))"
   ]
  },
  {
   "cell_type": "code",
   "execution_count": 52,
   "metadata": {},
   "outputs": [
    {
     "name": "stdout",
     "output_type": "stream",
     "text": [
      "Max Validation Accuracy = 88.13333511352539 %\n"
     ]
    }
   ],
   "source": [
    "# Max Validation Accuracy\n",
    "print('Max Validation Accuracy =',max(history.history['val_accuracy'])*100,'%')"
   ]
  },
  {
   "cell_type": "code",
   "execution_count": 53,
   "metadata": {},
   "outputs": [],
   "source": [
    "model.save('Sentiment_Analysis.h5')"
   ]
  }
 ],
 "metadata": {
  "kernelspec": {
   "display_name": "Python 3",
   "language": "python",
   "name": "python3"
  },
  "language_info": {
   "codemirror_mode": {
    "name": "ipython",
    "version": 3
   },
   "file_extension": ".py",
   "mimetype": "text/x-python",
   "name": "python",
   "nbconvert_exporter": "python",
   "pygments_lexer": "ipython3",
   "version": "3.6.10"
  }
 },
 "nbformat": 4,
 "nbformat_minor": 4
}
